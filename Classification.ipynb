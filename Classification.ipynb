{
 "cells": [
  {
   "cell_type": "code",
   "execution_count": null,
   "metadata": {},
   "outputs": [],
   "source": [
    "from keras.layers import Input, Dense, Flatten, Dropout\n",
    "from keras.layers.core import Reshape\n",
    "from keras.models import Model\n",
    "from keras.callbacks import ModelCheckpoint\n",
    "from keras.layers.convolutional import MaxPooling2D,UpSampling2D,Conv2DTranspose\n",
    "from keras.layers.convolutional import Convolution2D as Conv2D\n",
    "from keras.layers.normalization import BatchNormalization\n",
    "from keras.optimizers import Adadelta, RMSprop\n",
    "from keras import backend as K\n",
    "from keras.models import model_from_json\n",
    "import os\n",
    "import os.path\n",
    "import numpy as np\n",
    "from PIL import Image\n",
    "from numpy import * \n",
    "from sklearn.utils import shuffle\n",
    "from sklearn.cross_validation import train_test_split\n",
    "import scipy.misc\n",
    "import cv2\n",
    "import theano\n",
    "import matplotlib.pyplot as plt\n",
    "import matplotlib\n",
    "from sklearn.metrics import classification_report,confusion_matrix"
   ]
  },
  {
   "cell_type": "code",
   "execution_count": null,
   "metadata": {},
   "outputs": [],
   "source": [
    "input_img = Input(shape=(128,128,1))\n",
    "num_classes = 123\n",
    "img_rows, img_cols = 128, 128"
   ]
  },
  {
   "cell_type": "code",
   "execution_count": null,
   "metadata": {},
   "outputs": [],
   "source": [
    "enco = Conv2D(16, (3, 3), activation='relu', padding='same')(input_img)\n",
    "enco = BatchNormalization()(enco)\n",
    "enco = Conv2D(16, (3, 3), activation='relu', padding='same')(enco)\n",
    "enco = BatchNormalization()(conv1)\n",
    "enco = MaxPooling2D(pool_size=(2, 2))(enco)\n",
    "   \n",
    "enco = Conv2D(32, (3, 3), activation='relu', padding='same')(enco)\n",
    "enco = BatchNormalization()(enco)\n",
    "enco = Conv2D(32, (3, 3), activation='relu', padding='same')(enco)\n",
    "enco = BatchNormalization()(enco)\n",
    "enco = MaxPooling2D(pool_size=(2, 2))(enco)\n",
    "      \n",
    "enco = Conv2D(64, (3, 3), activation='relu', padding='same')(enco)\n",
    "enco = BatchNormalization()(enco)\n",
    "enco = Conv2D(64, (3, 3), activation='relu', padding='same')(enco)\n",
    "enco = BatchNormalization()(enco)\n",
    "enco = MaxPooling2D(pool_size=(2, 2))(enco)\n",
    "    \n",
    "enco = Conv2D(128, (3, 3), activation='relu', padding='same')(enco)\n",
    "enco = BatchNormalization()(enco)\n",
    "enco = Conv2D(128, (3, 3), activation='relu', padding='same')(enco)\n",
    "enco = BatchNormalization()(enco)\n",
    "enco = MaxPooling2D(pool_size=(2, 2))(enco)\n",
    "    \n",
    "enco = Conv2D(256, (3, 3), activation='relu', padding='same')(enco)\n",
    "enco = BatchNormalization()(enco)\n",
    "enco = Conv2D(256, (3, 3), activation='relu', padding='same')(enco)\n",
    "enco = BatchNormalization()(enco)\n",
    "\n",
    "enco.load_weights(\"Only_Encoder.h5\")\n",
    "\n",
    "enco = Flatten()(enco)\n",
    "enco = Dense(64, activation='relu')(enco)\n",
    "enco = Dense(32, activation='relu')(enco)\n",
    "enco = Dense(num_classes, activation='softmax')(enco)\n",
    "\n",
    "network = Model(input_img, enco)\n",
    "\n",
    "rms=RMSprop(lr=0.001, rho=0.9, epsilon=1e-08, decay=0.001)\n",
    "network.compile(loss='mean_squared_error', optimizer=rms)"
   ]
  },
  {
   "cell_type": "code",
   "execution_count": null,
   "metadata": {},
   "outputs": [],
   "source": [
    "path=\"Data\"\n",
    "basic_mat=[]\n",
    "index=[]\n",
    "epochs=100\n",
    "batch_size1=64"
   ]
  },
  {
   "cell_type": "code",
   "execution_count": null,
   "metadata": {},
   "outputs": [],
   "source": [
    "for i in range(1,124):\n",
    "    path_major=path1+'/'+str(i)\n",
    "    for j in range(1,101):\n",
    "        img=array(Image.open(path_major+\"/\"+str(j)+\"_.jpg\"))\n",
    "        #print shape(img)\n",
    "        img = cv2.cvtColor( img, cv2.COLOR_RGB2GRAY )\n",
    "        img=img.reshape(128,128,1)\n",
    "        basic_mat.append(img)\n",
    "        #tobe_mat.append(img)\n",
    "    index[i]=i"
   ]
  },
  {
   "cell_type": "code",
   "execution_count": null,
   "metadata": {},
   "outputs": [],
   "source": [
    "data,Label = shuffle(basic_mat,index, random_state=2)"
   ]
  },
  {
   "cell_type": "code",
   "execution_count": null,
   "metadata": {},
   "outputs": [],
   "source": [
    "X_train, X_test, y_train, y_test = train_test_split(data, Label, test_size=0.2, random_state=2)\n",
    "X_train = array(X_train)\n",
    "y_train = array(y_train)\n",
    "X_test = array(X_test)\n",
    "y_test = array(y_test)\n",
    "print(X_train.shape)\n",
    "print(y_train.shape)\n",
    "print(X_test.shape)\n",
    "print(y_test.shape)"
   ]
  },
  {
   "cell_type": "code",
   "execution_count": null,
   "metadata": {},
   "outputs": [],
   "source": [
    "x_train = X_train.astype('float32') / 255.\n",
    "x_test = X_test.astype('float32') / 255.\n",
    "enco.fit(x_train, y_train, validation_data=(x_test, y_test),batch_size=batch_size1, nb_epoch=epochs, verbose=2)\n",
    "scores = enco.evaluate(x_test, y_test, verbose=0)\n",
    "print (\"%s: %.2f%%\" % (enco.metrics_names[1], scores[1]*100))"
   ]
  }
 ],
 "metadata": {
  "kernelspec": {
   "display_name": "Python 3",
   "language": "python",
   "name": "python3"
  },
  "language_info": {
   "codemirror_mode": {
    "name": "ipython",
    "version": 3
   },
   "file_extension": ".py",
   "mimetype": "text/x-python",
   "name": "python",
   "nbconvert_exporter": "python",
   "pygments_lexer": "ipython3",
   "version": "3.6.3"
  }
 },
 "nbformat": 4,
 "nbformat_minor": 2
}
