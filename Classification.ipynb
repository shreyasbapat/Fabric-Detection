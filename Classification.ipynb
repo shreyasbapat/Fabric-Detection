{
 "cells": [
  {
   "cell_type": "code",
   "execution_count": null,
   "metadata": {},
   "outputs": [],
   "source": [
    "from keras.layers import Input, Dense\n",
    "from keras.layers.core import Reshape\n",
    "from keras.models import Model\n",
    "from keras.callbacks import ModelCheckpoint\n",
    "from keras.layers.convolutional import MaxPooling2D,UpSampling2D,Conv2DTranspose\n",
    "from keras.layers.convolutional import Convolution2D as Conv2D\n",
    "from keras.layers.normalization import BatchNormalization\n",
    "from keras.optimizers import Adadelta, RMSprop\n",
    "import os\n",
    "import os.path\n",
    "import numpy as np\n",
    "from PIL import Image\n",
    "from numpy import * \n",
    "from sklearn.utils import shuffle\n",
    "from sklearn.cross_validation import train_test_split\n",
    "import scipy.misc\n",
    "import cv2"
   ]
  },
  {
   "cell_type": "code",
   "execution_count": null,
   "metadata": {},
   "outputs": [],
   "source": [
    "input_img = Input(shape=(128,128,1))\n",
    "num_classes = 123"
   ]
  },
  {
   "cell_type": "code",
   "execution_count": null,
   "metadata": {},
   "outputs": [],
   "source": [
    "enco = Conv2D(16, (3, 3), activation='relu', padding='same')(input_img)\n",
    "enco = BatchNormalization()(enco)\n",
    "enco = Conv2D(16, (3, 3), activation='relu', padding='same')(enco)\n",
    "enco = BatchNormalization()(conv1)\n",
    "enco = MaxPooling2D(pool_size=(2, 2))(enco)\n",
    "   \n",
    "enco = Conv2D(32, (3, 3), activation='relu', padding='same')(enco)\n",
    "enco = BatchNormalization()(enco)\n",
    "enco = Conv2D(32, (3, 3), activation='relu', padding='same')(enco)\n",
    "enco = BatchNormalization()(enco)\n",
    "enco = MaxPooling2D(pool_size=(2, 2))(enco)\n",
    "      \n",
    "enco = Conv2D(64, (3, 3), activation='relu', padding='same')(enco)\n",
    "enco = BatchNormalization()(enco)\n",
    "enco = Conv2D(64, (3, 3), activation='relu', padding='same')(enco)\n",
    "enco = BatchNormalization()(enco)\n",
    "enco = MaxPooling2D(pool_size=(2, 2))(enco)\n",
    "    \n",
    "enco = Conv2D(128, (3, 3), activation='relu', padding='same')(enco)\n",
    "enco = BatchNormalization()(enco)\n",
    "enco = Conv2D(128, (3, 3), activation='relu', padding='same')(enco)\n",
    "enco = BatchNormalization()(enco)\n",
    "enco = MaxPooling2D(pool_size=(2, 2))(enco)\n",
    "    \n",
    "enco = Conv2D(256, (3, 3), activation='relu', padding='same')(enco)\n",
    "enco = BatchNormalization()(enco)\n",
    "enco = Conv2D(256, (3, 3), activation='relu', padding='same')(enco)\n",
    "enco = BatchNormalization()(enco)\n",
    "\n",
    "enco.load_weights(\"Only_Encoder.h5\")\n",
    "\n",
    "enco = Flatten()(enco)\n",
    "enco = Dense(64, activation='relu')(enco)\n",
    "enco = Dense(32, activation='relu')(enco)\n",
    "enco = Dense(num_classes, activation='softmax')(enco)\n",
    "\n",
    "network = Model(input_img, enco)\n",
    "\n",
    "rms=RMSprop(lr=0.001, rho=0.9, epsilon=1e-08, decay=0.001)\n",
    "network.compile(loss='mean_squared_error', optimizer=rms)"
   ]
  },
  {
   "cell_type": "code",
   "execution_count": null,
   "metadata": {},
   "outputs": [],
   "source": [
    "path1=\"Data\"\n",
    "basic_mat=[]"
   ]
  },
  {
   "cell_type": "code",
   "execution_count": null,
   "metadata": {},
   "outputs": [],
   "source": [
    "for i in range(1,124):\n",
    "    path_major=path1+'/'+str(i)\n",
    "    for j in range(1,101):\n",
    "        img=array(Image.open(path_major+\"/\"+str(j)+\"_.jpg\"))\n",
    "        #print shape(img)\n",
    "        img = cv2.cvtColor( img, cv2.COLOR_RGB2GRAY )\n",
    "        img=img.reshape(128,128,1)\n",
    "        basic_mat.append(img)\n",
    "        #tobe_mat.append(img)"
   ]
  },
  {
   "cell_type": "code",
   "execution_count": null,
   "metadata": {},
   "outputs": [],
   "source": [
    "data,Label = shuffle(basic_mat,tobe_mat, random_state=2)"
   ]
  }
 ],
 "metadata": {
  "kernelspec": {
   "display_name": "Python 3",
   "language": "python",
   "name": "python3"
  },
  "language_info": {
   "codemirror_mode": {
    "name": "ipython",
    "version": 3
   },
   "file_extension": ".py",
   "mimetype": "text/x-python",
   "name": "python",
   "nbconvert_exporter": "python",
   "pygments_lexer": "ipython3",
   "version": "3.6.3"
  }
 },
 "nbformat": 4,
 "nbformat_minor": 2
}
