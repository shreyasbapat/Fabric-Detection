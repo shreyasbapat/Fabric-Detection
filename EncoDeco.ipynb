{
 "cells": [
  {
   "cell_type": "code",
   "execution_count": null,
   "metadata": {},
   "outputs": [],
   "source": [
    "from keras.layers import Input, Dense\n",
    "from keras.layers.core import Reshape\n",
    "from keras.models import Model\n",
    "from keras.callbacks import ModelCheckpoint\n",
    "from keras.layers.convolutional import MaxPooling2D,UpSampling2D,Conv2DTranspose\n",
    "from keras.layers.convolutional import Convolution2D as Conv2D\n",
    "from keras.layers.normalization import BatchNormalization\n",
    "from keras.optimizers import Adadelta, RMSprop\n",
    "import os\n",
    "import os.path\n",
    "import numpy as np\n",
    "from PIL import Image\n",
    "from numpy import * \n",
    "from sklearn.utils import shuffle\n",
    "from sklearn.cross_validation import train_test_split\n",
    "import scipy.misc\n",
    "import cv2"
   ]
  },
  {
   "cell_type": "code",
   "execution_count": null,
   "metadata": {},
   "outputs": [],
   "source": [
    "input_img = Input(shape=(128,128,1))\n",
    "enco = Conv2D(16, (3, 3), activation='relu', padding='same')(input_img)\n",
    "enco = BatchNormalization()(enco)\n",
    "enco = Conv2D(16, (3, 3), activation='relu', padding='same')(enco)\n",
    "enco = BatchNormalization()(conv1)\n",
    "enco = MaxPooling2D(pool_size=(2, 2))(enco)\n",
    "   \n",
    "enco = Conv2D(32, (3, 3), activation='relu', padding='same')(enco)\n",
    "enco = BatchNormalization()(enco)\n",
    "enco = Conv2D(32, (3, 3), activation='relu', padding='same')(enco)\n",
    "enco = BatchNormalization()(enco)\n",
    "enco = MaxPooling2D(pool_size=(2, 2))(enco)\n",
    "      \n",
    "enco = Conv2D(64, (3, 3), activation='relu', padding='same')(enco)\n",
    "enco = BatchNormalization()(enco)\n",
    "enco = Conv2D(64, (3, 3), activation='relu', padding='same')(enco)\n",
    "enco = BatchNormalization()(enco)\n",
    "enco = MaxPooling2D(pool_size=(2, 2))(enco)\n",
    "    \n",
    "enco = Conv2D(128, (3, 3), activation='relu', padding='same')(enco)\n",
    "enco = BatchNormalization()(enco)\n",
    "enco = Conv2D(128, (3, 3), activation='relu', padding='same')(enco)\n",
    "enco = BatchNormalization()(enco)\n",
    "enco = MaxPooling2D(pool_size=(2, 2))(enco)\n",
    "    \n",
    "enco = Conv2D(256, (3, 3), activation='relu', padding='same')(enco)\n",
    "enco = BatchNormalization()(enco)\n",
    "enco = Conv2D(256, (3, 3), activation='relu', padding='same')(enco)\n",
    "enco = BatchNormalization()(enco)"
   ]
  },
  {
   "cell_type": "code",
   "execution_count": null,
   "metadata": {},
   "outputs": [],
   "source": [
    "deco = UpSampling2D((2,2))(enco)\n",
    "deco = Conv2D(128, (3, 3), activation='relu', padding='same')(deco)\n",
    "deco = BatchNormalization()(deco)\n",
    "deco = Conv2D(128, (3, 3), activation='relu', padding='same')(deco)\n",
    "deco = BatchNormalization()(deco)\n",
    "\n",
    "deco = UpSampling2D((2,2))(deco)\n",
    "deco = Conv2D(64, (3, 3), activation='relu', padding='same')(deco)\n",
    "deco = BatchNormalization()(deco)\n",
    "deco = Conv2D(64, (3, 3), activation='relu', padding='same')(deco)\n",
    "deco = BatchNormalization()(deco)\n",
    "\n",
    "deco = UpSampling2D((2,2))(deco)\n",
    "deco = Conv2D(32, (3, 3), activation='relu', padding='same')(deco)\n",
    "deco = BatchNormalization()(deco)\n",
    "deco = Conv2D(32, (3, 3), activation='relu', padding='same')(deco)\n",
    "deco = BatchNormalization()(deco)\n",
    "   \n",
    "deco = UpSampling2D((2,2))(deco)\n",
    "deco = Conv2D(16, (3, 3), activation='relu', padding='same')(deco)\n",
    "deco = BatchNormalization()(deco)\n",
    "deco = Conv2D(16, (3, 3), activation='relu', padding='same')(deco)\n",
    "deco = BatchNormalization()(deco)\n",
    "\n",
    "decoded = Conv2D(1, (3, 3), activation='sigmoid', padding='same')(deco)\n",
    "    "
   ]
  },
  {
   "cell_type": "code",
   "execution_count": null,
   "metadata": {},
   "outputs": [],
   "source": [
    "autoencoder = Model(input_img, decoded)"
   ]
  },
  {
   "cell_type": "code",
   "execution_count": null,
   "metadata": {},
   "outputs": [],
   "source": [
    "encoder = Model(input_img, enco)"
   ]
  },
  {
   "cell_type": "code",
   "execution_count": null,
   "metadata": {},
   "outputs": [],
   "source": [
    "ada=Adadelta(lr=5.0, rho=0.95, epsilon=1e-08, decay=0.001)\n",
    "rms=RMSprop(lr=0.001, rho=0.9, epsilon=1e-08, decay=0.001)\n",
    "autoencoder.compile(loss='mean_squared_error', optimizer=rms)\n",
    "encoder.compile(loss='mean_squared_error', optimizer=rms)\n",
    "\n",
    "basic_mat=[]\n",
    "tobe_mat=[]"
   ]
  },
  {
   "cell_type": "code",
   "execution_count": null,
   "metadata": {},
   "outputs": [],
   "source": [
    "path1=\"Data\""
   ]
  },
  {
   "cell_type": "code",
   "execution_count": null,
   "metadata": {},
   "outputs": [],
   "source": [
    "for i in range(1,124):\n",
    "    path_major=path1+'/'+str(i)\n",
    "    for j in range(1,101):\n",
    "        img=array(Image.open(path_major+\"/\"+str(j)+\"_.jpg\"))\n",
    "        #print shape(img)\n",
    "        img = cv2.cvtColor( img, cv2.COLOR_RGB2GRAY )\n",
    "        img=img.reshape(128,128,1)\n",
    "        basic_mat.append(img)\n",
    "        tobe_mat.append(img)"
   ]
  },
  {
   "cell_type": "code",
   "execution_count": null,
   "metadata": {},
   "outputs": [],
   "source": [
    "data,Label = shuffle(basic_mat,tobe_mat, random_state=2)"
   ]
  },
  {
   "cell_type": "code",
   "execution_count": null,
   "metadata": {},
   "outputs": [],
   "source": [
    "X_train, X_test, y_train, y_test = train_test_split(data, Label, test_size=0.2, random_state=2)\n",
    "X_train = array(X_train)\n",
    "y_train = array(y_train)\n",
    "X_test = array(X_test)\n",
    "y_test = array(y_test)\n",
    "print(X_train.shape)\n",
    "print(y_train.shape)\n",
    "print(X_test.shape)\n",
    "print(y_test.shape)"
   ]
  },
  {
   "cell_type": "code",
   "execution_count": null,
   "metadata": {},
   "outputs": [],
   "source": [
    "x_train = X_train.astype('float32') / 255.\n",
    "x_test = X_test.astype('float32') / 255.\n",
    "\n",
    "y_train = y_train.astype('float32') / 255.\n",
    "y_test = y_test.astype('float32') / 255.\n",
    "CheckDir = 'sample/'"
   ]
  },
  {
   "cell_type": "code",
   "execution_count": null,
   "metadata": {},
   "outputs": [],
   "source": [
    "for epoch in range(1,300):\n",
    "    \n",
    "    train_X,train_Y=shuffle(x_train,y_train)\n",
    "    print (\"Epoch is: %d\\n\" % epoch)\n",
    "    batch_size=64\n",
    "    print (\"Number of batches: %d\\n\" % int(len(train_X)/batch_size))\n",
    "    num_batches=int(len(train_X)/batch_size)\n",
    "    for batch in range(num_batches):    \n",
    "        batch_train_X=train_X[batch*batch_size:min((batch+1)*batch_size,len(train_X))]\n",
    "        batch_train_Y=train_Y[batch*batch_size:min((batch+1)*batch_size,len(train_Y))]\n",
    "        loss=autoencoder.train_on_batch(batch_train_X,batch_train_Y)\n",
    "        print ('epoch_num: %d batch_num: %d loss: %f\\n' % (epoch,batch,loss))\n",
    "\n",
    "    autoencoder.save_weights(\"fabric_autoen.h5\")\n",
    "    encoder.save_weights(\"Only_Encoder.h5\")\n",
    "    if(epoch%2==0):\n",
    "        x_test,y_test=shuffle(x_test,y_test)\n",
    "        decoded_imgs=autoencoder.predict(x_test[:2])\n",
    "        temp = np.zeros([128, 128*3,3])\n",
    "        temp[:, :128,:1] = x_test[0,:,:,:1]\n",
    "        temp[:, 128:128*2,:1] = y_test[0,:,:,:1]\n",
    "        temp[:, 128*2:,:1] = decoded_imgs[0,:,:,:1]\n",
    "        temp[:,:,1]=temp[:,:,0]\n",
    "        temp[:,:,2]=temp[:,:,0]\n",
    "        temp = temp*255\n",
    "        scipy.misc.imsave(CheckDir + str(epoch) + \".jpg\", temp)"
   ]
  }
 ],
 "metadata": {
  "kernelspec": {
   "display_name": "Python 3",
   "language": "python",
   "name": "python3"
  },
  "language_info": {
   "codemirror_mode": {
    "name": "ipython",
    "version": 3
   },
   "file_extension": ".py",
   "mimetype": "text/x-python",
   "name": "python",
   "nbconvert_exporter": "python",
   "pygments_lexer": "ipython3",
   "version": "3.6.3"
  }
 },
 "nbformat": 4,
 "nbformat_minor": 2
}
